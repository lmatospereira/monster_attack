{
  "nbformat": 4,
  "nbformat_minor": 0,
  "metadata": {
    "colab": {
      "provenance": [],
      "collapsed_sections": [
        "XoZ8Rz-tSOGb",
        "HhwygUeJU0nd"
      ],
      "authorship_tag": "ABX9TyOR32VWJ7GLA374KAHyaqb+",
      "include_colab_link": true
    },
    "kernelspec": {
      "name": "python3",
      "display_name": "Python 3"
    },
    "language_info": {
      "name": "python"
    }
  },
  "cells": [
    {
      "cell_type": "markdown",
      "metadata": {
        "id": "view-in-github",
        "colab_type": "text"
      },
      "source": [
        "<a href=\"https://colab.research.google.com/github/lmatospereira/monster_attack/blob/devlop/desafiotera.ipynb\" target=\"_parent\"><img src=\"https://colab.research.google.com/assets/colab-badge.svg\" alt=\"Open In Colab\"/></a>"
      ]
    },
    {
      "cell_type": "markdown",
      "source": [
        "**Tabuleiro**: 4x4 (16 posições)\n",
        "\n",
        "**Ações:**\n",
        "\n",
        "← ir para esquerda\n",
        "\n",
        "→ ir para direita\n",
        "\n",
        "↑ ir para cima\n",
        "\n",
        "↓ ir para baixo\n",
        "\n",
        "A atacar\n",
        "\n",
        "**Regras:**\n",
        "* Uma ação por vez (movimentar ou atacar)\n",
        "* Não existe ação diagonal\n",
        "* Não dá para atravessar paredes\n",
        "* Um ataque mata o Wumpus, mas você só\n",
        "tem um único ataque\n",
        "* Pontos\n",
        "  * -1 para cada movimento\n",
        "  * -10 se atacar|"
      ],
      "metadata": {
        "id": "njnlssq9CzO_"
      }
    },
    {
      "cell_type": "code",
      "source": [
        "import random\n",
        "\n",
        "class Jogo:\n",
        "    def __init__(self): # Construtor da classe jogo https://www.treinaweb.com.br/blog/orientacao-a-objetos-em-python#:~:text=Para%20declarar%20um%20atributo%20em,ser%C3%A1%20criada%20em%20nosso%20programa.\n",
        "        self.tabuleiro = [['-' for _ in range(4)] for _ in range(4)] # preenchendo a matriz com e  \"_\" no laço é apenas para melhor compreensão\n",
        "        self.jogador = [0, 0] \n",
        "        self.wumpus = None\n",
        "        self.buraco = None\n",
        "        self.tesouro = None\n",
        "        self.pontos = 10\n",
        "\n",
        "    def gerar_posicao_aleatoria(self): # função para gerar posição aleatória na matriz https://www.geeksforgeeks.org/python-randint-function/\n",
        "        return [random.randint(0, 3), random.randint(0, 3)]\n",
        "\n",
        "    def iniciar(self):        \n",
        "        self.jogador = [0, 0]\n",
        "        self.wumpus = self.gerar_posicao_aleatoria()\n",
        "        self.buraco = self.gerar_posicao_aleatoria()\n",
        "        self.tesouro = self.gerar_posicao_aleatoria()\n",
        "        while self.buraco == self.wumpus: # para evitar que o wunpus e o buraco fiquem no mesmo espaço\n",
        "            self.buraco = self.gerar_posicao_aleatoria()\n",
        "        self.tabuleiro[self.jogador[0]][self.jogador[1]] = 'J' # atribuindo o caractere J na posição do jogador\n",
        "        self.tabuleiro[self.wumpus[0]][self.wumpus[1]] = '-'\n",
        "        self.tabuleiro[self.buraco[0]][self.buraco[1]] = '-'\n",
        "        self.tabuleiro[self.tesouro[0]][self.tesouro[1]] = '-'\n",
        "\n",
        "\n",
        "    def imprimir_tabuleiro(self):\n",
        "        for x in range(4):\n",
        "            for y in range(4):\n",
        "                print(self.tabuleiro[x][y], end=' ') # o end evita que o python quebre a linha \n",
        "            print()    \n",
        "    \n",
        "    \n",
        "    def finaliza_jogo(self,nova_posicao):\n",
        "      self.tabuleiro[self.jogador[0]][self.jogador[1]] = '-' # trocando o caracterer da posicao atual do jogador\n",
        "      self.jogador = nova_posicao\n",
        "      self.tabuleiro[self.jogador[0]][self.jogador[1]] = 'X' # trocando o caracterer da posicao atual do jogador      \n",
        "      return True\n",
        "\n",
        "    def imprimir_pontos(self):\n",
        "      return print(self.pontos)\n",
        "\n",
        "    def mover_jogador(self, direcao):\n",
        "        nova_posicao = [self.jogador[0], self.jogador[1]] # recuperando a posição do jogagor\n",
        "\n",
        "        if direcao == 'esquerda' or direcao == 'atarcar-esquerda': # validando o comando e subitraindo o elemento da y\n",
        "            nova_posicao[1] -= 1\n",
        "            print(nova_posicao)\n",
        "        elif direcao == 'direita' or direcao == 'atarcar-direita':# validando o comando e adicionando o elemento da y\n",
        "            nova_posicao[1] += 1\n",
        "            print(nova_posicao)\n",
        "        elif direcao == 'cima' or direcao == 'atarcar-cima':# validando o comando e adicionando o elemento da x\n",
        "            nova_posicao[0] -= 1\n",
        "            print(nova_posicao)\n",
        "        elif direcao == 'baixo' or direcao == 'atarcar-baixo':# validando o comando e adicionando o elemento da x\n",
        "            nova_posicao[0] += 1\n",
        "            print(nova_posicao)\n",
        "\n",
        "        if nova_posicao[0] < 0 or nova_posicao[0] > 3 or nova_posicao[1] < 0 or nova_posicao[1] > 3: # validando as paredes\n",
        "            print('Movimento inválido.')\n",
        "            return False\n",
        "        \n",
        "        if self.tabuleiro[nova_posicao[0]][nova_posicao[1]] == 'B': # valiando se caractere da posição é o buraco \n",
        "            print(nova_posicao)\n",
        "            print('Você caiu em um buraco!')\n",
        "            self.pontos -= 10\n",
        "            self.finaliza_jogo(nova_posicao)            \n",
        "        \n",
        "        if self.tabuleiro[nova_posicao[0]][nova_posicao[1]] == 'W':# valiando se caractere da posição é o wunpus\n",
        "          print(nova_posicao)\n",
        "          print('Você econtrou o Wumpus!')\n",
        "          self.pontos -= 10\n",
        "          self.finaliza_jogo(nova_posicao)\n",
        "        \n",
        "        if self.tabuleiro[nova_posicao[0]][nova_posicao[1]] == 'T': # valiando se caractere da posição é o wunpus\n",
        "          print(nova_posicao)\n",
        "          print('Você econtrou o Tesouro!')\n",
        "          self.pontos += 10\n",
        "          self.finaliza_jogo(nova_posicao)\n",
        "        \n",
        "        self.tabuleiro[self.jogador[0]][self.jogador[1]] = '-' # trocando o caracterer da posicao atual do jogador \n",
        "        self.jogador = nova_posicao # recupentado a nova posição \n",
        "        self.tabuleiro[self.jogador[0]][self.jogador[1]] = 'J' # trocando o caracterer da posicao atual do jogador\n",
        "        self.pontos -= 1\n",
        "        return True\n",
        "\n",
        "\n",
        "jogo = Jogo()\n",
        "jogo.iniciar()\n",
        "jogo.imprimir_tabuleiro()\n",
        "\n",
        "while True:\n",
        "  jogo.imprimir_pontos()\n",
        "  acao = input('Digite sua ação (esquerda, direita, cima, baixo, atacar): ')\n",
        "  jogo.mover_jogador(acao)\n",
        "  jogo.imprimir_tabuleiro()"
      ],
      "metadata": {
        "id": "VwgvUN1KSNT4",
        "colab": {
          "base_uri": "https://localhost:8080/"
        },
        "outputId": "a226c1b6-b889-49e0-81b9-cb8c9b8ca65c"
      },
      "execution_count": null,
      "outputs": [
        {
          "output_type": "stream",
          "name": "stdout",
          "text": [
            "J - - - \n",
            "- - - - \n",
            "- - - - \n",
            "- - - - \n",
            "10\n"
          ]
        }
      ]
    },
    {
      "cell_type": "markdown",
      "source": [
        "##Desaﬁo\n",
        "Concatene listas\n",
        "Seu código deve:\n",
        "* usar duas listas de mesmo tamanho\n",
        "* devolver uma lista final de tuplas\n",
        "Obs:\n",
        "* Use essas listas como exemplo:\n",
        "  * first_list = [0, 1, 2, 3, 4, 5, 6, 7, 8, 9, 10]\n",
        "  * second_list = [0, 1, 4, 9, 16, 25, 36, 49, 64, 81, 100]\n"
      ],
      "metadata": {
        "id": "-J9K4QzavbsR"
      }
    },
    {
      "cell_type": "code",
      "source": [
        "first_list = [0, 1, 2, 3, 4, 5, 6, 7, 8, 9, 10]\n",
        "second_list = [0, 1, 4, 9, 16, 25, 36, 49, 64, 81, 100]\n",
        "\n",
        "result = zip(first_list, second_list)\n",
        "print(tuple(result))"
      ],
      "metadata": {
        "colab": {
          "base_uri": "https://localhost:8080/"
        },
        "id": "NrjDkgdgCiF9",
        "outputId": "94ebdd10-cedf-4650-dfde-b2d500f1688b"
      },
      "execution_count": null,
      "outputs": [
        {
          "output_type": "stream",
          "name": "stdout",
          "text": [
            "((0, 0), (1, 1), (2, 4), (3, 9), (4, 16), (5, 25), (6, 36), (7, 49), (8, 64), (9, 81), (10, 100))\n"
          ]
        }
      ]
    },
    {
      "cell_type": "markdown",
      "source": [
        "**Encontre a interseção**\n",
        "\n",
        "Seu código deve:\n",
        "* usar dois conjuntos\n",
        "* devolver um conjunto com elementos da interseção\n",
        "\n",
        "Obs:\n",
        "* Use esses conjuntos como exemplo:\n",
        "  * first_set = {23, 42, 65, 57, 78, 83, 29}\n",
        "  * second_set = {57, 83, 29, 67, 73, 43, 48}"
      ],
      "metadata": {
        "id": "bskfdB8KFdjx"
      }
    },
    {
      "cell_type": "code",
      "source": [
        "first_set = {23, 42, 65, 57, 78, 83, 29}\n",
        "second_set = {57, 83, 29, 67, 73, 43, 48}\n",
        "print(f\"método intersecção first_set.intersection(second_set) {first_set.intersection(second_set)} \\\n",
        "mas pode ser usando da seguinte maneira first_set &  second_set {first_set & second_set}\")"
      ],
      "metadata": {
        "colab": {
          "base_uri": "https://localhost:8080/"
        },
        "id": "PbZsBqK-FdPL",
        "outputId": "7c72678d-2f08-4034-f308-c439247bf561"
      },
      "execution_count": null,
      "outputs": [
        {
          "output_type": "stream",
          "name": "stdout",
          "text": [
            "método intersecção first_set.intersection(second_set) {57, 83, 29} mas pode ser usando da seguinte maneira first_set &  second_set {57, 83, 29}\n"
          ]
        }
      ]
    },
    {
      "cell_type": "markdown",
      "source": [
        "**Crie função e use conjuntos**\n",
        "\n",
        "Sua função deve:\n",
        "* receber dois conjuntos como argumento\n",
        "* ser capaz de dizer se o primeiro conjunto é um sub-conjunto do segundo.\n",
        "\n",
        "\n",
        "Obs:\n",
        "* Não há a necessidade do inverso ser verdadeiro.\n",
        "* Use esses conjuntos como exemplo:\n",
        "  * first_set = {57, 83, 29}\n",
        "  * second_set = {57, 83, 29, 67, 73, 43, 48}\n",
        "* Teste com exemplos que são False"
      ],
      "metadata": {
        "id": "7XFc3NSBHJnk"
      }
    },
    {
      "cell_type": "code",
      "source": [
        "def verifica_subconjunto(first_set: set, second_set: set) -> True:\n",
        "  return first_set.issubset(second_set) \n",
        "\n",
        "first_set = {57, 83, 29}\n",
        "second_set = {57, 83, 29, 67, 73, 43, 48}\n",
        "third_set = {3,5,10}\n",
        "\n",
        "first_and_second = verifica_subconjunto(first_set,second_set)\n",
        "first_and_third = verifica_subconjunto(first_set,third_set)\n",
        "\n",
        "print(f' first_and_second = {first_and_second} first_and_third = {first_and_third}')\n"
      ],
      "metadata": {
        "colab": {
          "base_uri": "https://localhost:8080/"
        },
        "id": "SlKG9dnMHJZ2",
        "outputId": "028e0882-6b84-4acc-d916-b76c00fa6c43"
      },
      "execution_count": null,
      "outputs": [
        {
          "output_type": "stream",
          "name": "stdout",
          "text": [
            "True False\n"
          ]
        }
      ]
    },
    {
      "cell_type": "markdown",
      "source": [
        "Encontre e Destrua\n",
        "Sua função deve:\n",
        "* receber um dicionário como primeiro argumento e um inteiro como segundo\n",
        "* criar um novo dicionário sem os elementos que possuem tal valor caso\n",
        "esteja presente\n",
        "Obs:\n",
        "* Número de exemplo: 13\n",
        "* Use o seguinte dicionário como exemplo\n",
        "\n",
        "\n",
        "```\n",
        " preferences = {\n",
        "   \"Aline\": 10, \"Jorge\": 2, \"Fabiola\": 4,\n",
        "   \"Jana\": 13, \"Wanda\": 14, \"Iago\": 22\n",
        "   \"Jefinho\": 9, \"Helton\": 6, \"Maria\": 13,\n",
        "   \"André\": 19, \"Diogo\": 5, \"Maiara\":13\n",
        "}\n",
        "```\n",
        "\n"
      ],
      "metadata": {
        "id": "8m5DBTSTMR2M"
      }
    },
    {
      "cell_type": "code",
      "source": [
        "def encontre_destrua(lista: dict, indice: int) -> dict:\n",
        "  list = [key for key, value in preferences.items() if value == indice]\n",
        "  result = [lista.pop(key, None) for key in list]   \n",
        "  return lista\n",
        " \n",
        "preferences = {\n",
        "    \"Aline\": 10, \"Jorge\": 2, \"Fabiola\": 4,\n",
        "    \"Jana\": 13, \"Wanda\": 14, \"Iago\": 22,\n",
        "    \"Jefinho\": 9, \"Helton\": 6, \"Maria\": 13,\n",
        "    \"André\": 19, \"Diogo\": 5, \"Maiara\":13\n",
        "}\n",
        "encontre_destrua(preferences,13)  "
      ],
      "metadata": {
        "colab": {
          "base_uri": "https://localhost:8080/"
        },
        "id": "qcONRS6HMSLu",
        "outputId": "075f8ce2-2dda-480a-c4ed-58c86956d995"
      },
      "execution_count": null,
      "outputs": [
        {
          "output_type": "execute_result",
          "data": {
            "text/plain": [
              "{'Aline': 10,\n",
              " 'Jorge': 2,\n",
              " 'Fabiola': 4,\n",
              " 'Wanda': 14,\n",
              " 'Iago': 22,\n",
              " 'Jefinho': 9,\n",
              " 'Helton': 6,\n",
              " 'André': 19,\n",
              " 'Diogo': 5}"
            ]
          },
          "metadata": {},
          "execution_count": 118
        }
      ]
    },
    {
      "cell_type": "markdown",
      "source": [
        "**Desenvolva um bot!**\n",
        "\n",
        "Ele deve:\n",
        "\n",
        "* Ficar esperando uma mensagem sua\n",
        "* Se você disser “oi” ele deve responder com \"Olá humano, tudo certo?\"\n",
        "* Se você disser “quem é você”, ele deve responder com:\n",
        " \"Eu sou a GALATERA, uma Inteligência Artificial\"\n",
        "\n",
        "* Se você disser qualquer outra coisa, ele deve responder “Que ótimo! Espero\n",
        "que você seja feliz!”\n",
        "\n",
        "**Obs:**\n",
        "* Use loops e condicionais\n",
        "* Não se esqueça do input\n",
        "* Tente imprimir com “human: ” e “bot: ” para facilitar"
      ],
      "metadata": {
        "id": "WOPMihmLdkLz"
      }
    },
    {
      "cell_type": "code",
      "source": [
        "class bot:\n",
        "    def __init__(self): # Construtor da classe jogo https://www.treinaweb.com.br/blog/orientacao-a-objetos-em-python#:~:text=Para%20declarar%20um%20atributo%20em,ser%C3%A1%20criada%20em%20nosso%20programa.\n",
        "        self.nome = 'GALATERA' # preenchendo a matriz com e  \"_\" no laço é apenas para melhor compreensão\n",
        "        self.nome_usuario = None\n",
        "        self.contato_inicial = 0\n",
        "    \n",
        "    def recupera_nome_usuario(self):\n",
        "      self.nome_usuario = input('Qual é o seu nome ?')\n",
        "      self.contato_inicial += 1\n",
        "\n",
        "    def proxima_resposta(self):\n",
        "      return input(f\"{self.nome_usuario:} \")\n",
        "    \n",
        "    def resposta_usuario(self, resposta):\n",
        "      if resposta.lower() == 'oi':\n",
        "        print(f\"{self.nome}: Olá {self.nome_usuario}, tudo certo?\")\n",
        "      elif resposta.lower() == 'quem e voce':\n",
        "        print(f\"{self.nome}: Eu sou a {self.nome}, uma Inteligência Artificial\")\n",
        "      else:\n",
        "        print(f\"{self.nome}: Que ótimo! Esperoque você seja feliz!\")\n",
        "        return False\n",
        "     \n",
        "      return True\n",
        "    \n",
        "    def iniciar(self):\n",
        "      while True:\n",
        "        \n",
        "        if self.contato_inicial == 0:\n",
        "          self.recupera_nome_usuario()\n",
        "        resposta = self.proxima_resposta()\n",
        "        self.resposta_usuario(resposta)\n",
        "\n",
        "\n",
        "bot = bot()\n",
        "bot.iniciar()\n"
      ],
      "metadata": {
        "id": "TN7QRDutdjdU"
      },
      "execution_count": null,
      "outputs": []
    },
    {
      "cell_type": "markdown",
      "source": [
        "**Elementos especíﬁcos**\n",
        "\n",
        "Dada a lista a seguir:\n",
        "\n",
        "> data = [2,9,1,3,5,2,7,5,8,2,1,5,6,9,5,5,7,5,3,2,6,4,1,4,9,8,7]\n",
        "\n",
        "* Como selecionar o 7o elemento?\n",
        "* E os 5 primeiros?\n",
        "* E os 3 últimos?]\n",
        "* Como ordenar do maior para o menor?\n",
        "* E do menor para o maior?"
      ],
      "metadata": {
        "id": "gI93n1xlnXiZ"
      }
    },
    {
      "cell_type": "code",
      "source": [
        "data = [2,9,1,3,5,2,7,5,8,2,1,5,6,9,5,5,7,5,3,2,6,4,1,4,9,8,7]\n",
        "\n",
        "print(f\"Como selecionar o 7º elemento:{data[7]}\\nComo selecionar os 5 elemento{data[:5]}\\nComo selecionar os 3 últimos:{data[-3:]}\")"
      ],
      "metadata": {
        "colab": {
          "base_uri": "https://localhost:8080/"
        },
        "id": "1JRRUFMwm6eS",
        "outputId": "9ef4099a-62f8-4396-c736-661b4eaaab02"
      },
      "execution_count": null,
      "outputs": [
        {
          "output_type": "stream",
          "name": "stdout",
          "text": [
            "Como selecionar o 7º elemento:5\n",
            "Como selecionar os 5 elemento[2, 9, 1, 3, 5]\n",
            "Como selecionar os 3 últimos:[9, 8, 7]\n"
          ]
        }
      ]
    },
    {
      "cell_type": "markdown",
      "source": [
        "##Elementos únicos\n",
        "\n",
        "Dada a lista a seguir:\n",
        "\n",
        "data = [2,9,1,3,5,2,7,5,8,2,1,5,6,9,5,5,7,5,3,2,6,4,1,4,9,8,7]\n",
        "\n",
        "* Como retornar apenas os números únicos?"
      ],
      "metadata": {
        "id": "D4O7CKj7nWS7"
      }
    },
    {
      "cell_type": "code",
      "source": [
        "data = [2,9,1,3,5,2,7,5,8,2,1,5,6,9,5,5,7,5,3,2,6,4,1,4,9,8,7]\n",
        "\n",
        "unicos = list(set(data))\n",
        "\n",
        "print(unicos)"
      ],
      "metadata": {
        "id": "cZR4y9vIKY15"
      },
      "execution_count": null,
      "outputs": []
    },
    {
      "cell_type": "code",
      "source": [],
      "metadata": {
        "id": "HrHsrY1GTlir"
      },
      "execution_count": null,
      "outputs": []
    },
    {
      "cell_type": "markdown",
      "source": [
        "##Elementos em ordem\n",
        "\n",
        "Dada a lista a seguir:\n",
        "\n",
        "data = [2,9,1,3,5,2,7,5,8,2,1,5,6,9,5,5,7,5,3,2,6,4,1,4,9,8,7]\n",
        "* Como ordenar do maior para o menor?\n",
        "* E do menor para o maior?"
      ],
      "metadata": {
        "id": "NbKXR045J19j"
      }
    },
    {
      "cell_type": "code",
      "source": [
        "data = [2,9,1,3,5,2,7,5,8,2,1,5,6,9,5,5,7,5,3,2,6,4,1,4,9,8,7]\n",
        "print(f\"lista do maior para o menor{sorted(data,reverse=True)}\\nlista do menor para o maior{sorted(data)}\")"
      ],
      "metadata": {
        "colab": {
          "base_uri": "https://localhost:8080/"
        },
        "id": "CAFoflUPKIzv",
        "outputId": "afe96b89-aff9-47c2-9857-e0de60bd78de"
      },
      "execution_count": 4,
      "outputs": [
        {
          "output_type": "stream",
          "name": "stdout",
          "text": [
            "lista do maior para o menor[9, 9, 9, 8, 8, 7, 7, 7, 6, 6, 5, 5, 5, 5, 5, 5, 4, 4, 3, 3, 2, 2, 2, 2, 1, 1, 1]\n",
            "lista do menor para o maior[1, 1, 1, 2, 2, 2, 2, 3, 3, 4, 4, 5, 5, 5, 5, 5, 5, 6, 6, 7, 7, 7, 8, 8, 9, 9, 9]\n"
          ]
        }
      ]
    },
    {
      "cell_type": "markdown",
      "source": [
        "##Elementos aleatórios\n",
        "\n",
        "Dada a lista a seguir:\n",
        "\n",
        "data = [2,9,1,3,5,2,7,5,8,2,1,5,6,9,5,5,7,5,3,2,6,4,1,4,9,8,7]\n",
        "\n",
        "* Como retornar 10 números aleatórios?"
      ],
      "metadata": {
        "id": "gRW96WdpL0cZ"
      }
    },
    {
      "cell_type": "code",
      "source": [
        "import random\n",
        "\n",
        "data = [2,9,1,3,5,2,7,5,8,2,1,5,6,9,5,5,7,5,3,2,6,4,1,4,9,8,7]\n",
        "\n",
        "aleatorios = random.sample(data, 10)\n",
        "\n",
        "print(aleatorios)"
      ],
      "metadata": {
        "colab": {
          "base_uri": "https://localhost:8080/"
        },
        "id": "x5QpyyBbRNcJ",
        "outputId": "d642e76e-1d48-4d95-97ed-e5d34aa71431"
      },
      "execution_count": 5,
      "outputs": [
        {
          "output_type": "stream",
          "name": "stdout",
          "text": [
            "[9, 7, 6, 3, 9, 4, 5, 2, 5, 1]\n"
          ]
        }
      ]
    },
    {
      "cell_type": "markdown",
      "source": [
        "##filter com funções\n",
        "Dada a lista a seguir:\n",
        "\n",
        "data = [2,9,1,3,5,2,7,5,8,2,1,5,6,9,5,5,7,5,3,2,6,4,1,4,9,8,7]\n",
        "\n",
        "* Como retornar os números maiores do que 5?"
      ],
      "metadata": {
        "id": "XoZ8Rz-tSOGb"
      }
    },
    {
      "cell_type": "code",
      "source": [
        "data = [2,9,1,3,5,2,7,5,8,2,1,5,6,9,5,5,7,5,3,2,6,4,1,4,9,8,7]\n",
        "\n",
        "def maior_que_cinco(valor):\n",
        "  return valor > 5\n",
        "\n",
        "list(filter(maior_que_cinco, data))"
      ],
      "metadata": {
        "colab": {
          "base_uri": "https://localhost:8080/"
        },
        "id": "dYOnu3j5SNz_",
        "outputId": "f6ef7e5e-e2e6-4156-8829-f1605778b1ea"
      },
      "execution_count": 7,
      "outputs": [
        {
          "output_type": "execute_result",
          "data": {
            "text/plain": [
              "[9, 7, 8, 6, 9, 7, 6, 9, 8, 7]"
            ]
          },
          "metadata": {},
          "execution_count": 7
        }
      ]
    },
    {
      "cell_type": "markdown",
      "source": [
        "## Filter string\n",
        "Dada a lista a seguir:\n",
        "\n",
        "data = \"Mar calmo não faz bom marinheiro e nem boa capitã\"\n",
        "\n",
        "* Como retornar os elementos que não possuem a letra “o”?"
      ],
      "metadata": {
        "id": "5_fJuWwOSNnS"
      }
    },
    {
      "cell_type": "code",
      "source": [
        "from functools import reduce\n",
        "\n",
        "data = \"Mar calmo não faz bom marinheiro e nem boa capitã\"\n",
        "\n",
        "reduce(data)"
      ],
      "metadata": {
        "id": "sXx28mtWUN4Q"
      },
      "execution_count": null,
      "outputs": []
    },
    {
      "cell_type": "markdown",
      "source": [
        "##Count\n",
        "Dada a lista a seguir:\n",
        "\n",
        "data = [2,9,1,3,5,2,7,5,8,2,1,5,6,9,5,5,7,5,3,2,6,4,1,4,9,8,7]\n",
        "\n",
        "* Como retornar a quantidade de elementos?"
      ],
      "metadata": {
        "id": "HhwygUeJU0nd"
      }
    },
    {
      "cell_type": "code",
      "source": [
        "data = [2,9,1,3,5,2,7,5,8,2,1,5,6,9,5,5,7,5,3,2,6,4,1,4,9,8,7]\n",
        "\n",
        "print(f\"qunatidade de elementos: {len(data)}\")"
      ],
      "metadata": {
        "colab": {
          "base_uri": "https://localhost:8080/"
        },
        "id": "5nco5dO8Uh_2",
        "outputId": "278f612d-416a-40ed-c27e-0e386eac3083"
      },
      "execution_count": 9,
      "outputs": [
        {
          "output_type": "stream",
          "name": "stdout",
          "text": [
            "qunatidade de elementos: 27\n"
          ]
        }
      ]
    },
    {
      "cell_type": "markdown",
      "source": [
        "##Sum\n",
        "Dada a lista a seguir:\n",
        "\n",
        "data = [2,9,1,3,5,2,7,5,8,2,1,5,6,9,5,5,7,5,3,2,6,4,1,4,9,8,7]\n",
        "\n",
        "* Como retornar a soma de todos os elementos?"
      ],
      "metadata": {
        "id": "D7-7TLDJVI3T"
      }
    },
    {
      "cell_type": "code",
      "source": [
        "data = [2,9,1,3,5,2,7,5,8,2,1,5,6,9,5,5,7,5,3,2,6,4,1,4,9,8,7]\n",
        "\n",
        "print(f\"total: {sum(data)}\")"
      ],
      "metadata": {
        "colab": {
          "base_uri": "https://localhost:8080/"
        },
        "id": "xOXq-lO1VOuE",
        "outputId": "c090ba51-ffab-4d3f-e849-05bc1d2ae2b3"
      },
      "execution_count": 10,
      "outputs": [
        {
          "output_type": "stream",
          "name": "stdout",
          "text": [
            "total: 131\n"
          ]
        }
      ]
    },
    {
      "cell_type": "markdown",
      "source": [
        "##Mean\n",
        "Dada a lista a seguir:\n",
        "\n",
        "data = [2,9,1,3,5,2,7,5,8,2,1,5,6,9,5,5,7,5,3,2,6,4,1,4,9,8,7]\n",
        "* Como retornar a média de todos os elementos?"
      ],
      "metadata": {
        "id": "xp03GkPoVg00"
      }
    },
    {
      "cell_type": "code",
      "source": [
        "import statistics\n",
        "\n",
        "data = [2,9,1,3,5,2,7,5,8,2,1,5,6,9,5,5,7,5,3,2,6,4,1,4,9,8,7]\n",
        "media = statistics.mean(data)\n",
        "\n",
        "print(f\"soma: {sum(data)}\\ntotal de elementos: {len(data)}\\nrmédia: {sum(data)/len(data)}valor arredondado{round(sum(data)/len(data))}\")\n",
        "print(f\"media: usando a bibliotéca statistics: {media}  valor arredondado: {round(media)}\")"
      ],
      "metadata": {
        "colab": {
          "base_uri": "https://localhost:8080/"
        },
        "id": "Ruw7RbslVnK2",
        "outputId": "652d8c21-d5fb-453a-bdd7-b76e073a44c3"
      },
      "execution_count": 17,
      "outputs": [
        {
          "output_type": "stream",
          "name": "stdout",
          "text": [
            "soma: 131\n",
            "total de elementos: 27\n",
            "rmédia: 4.851851851851852valor arredondado5\n",
            "media: usando a bibliotéca statistics: 4.851851851851852  valor arredondado: 5\n"
          ]
        }
      ]
    },
    {
      "cell_type": "markdown",
      "source": [
        "##Group By\n",
        "\n",
        "Dada a lista a seguir:\n",
        "\n",
        "data = [2,9,1,3,5,2,7,5,8,2,1,5,6,9,5,5,7,5,3,2,6,4,1,4,9,8,7]\n",
        "\n",
        "* Como retornar a quantidade agregada por elementos?"
      ],
      "metadata": {
        "id": "gHeLUjxAX3eM"
      }
    },
    {
      "cell_type": "code",
      "source": [
        "from collections import Counter\n",
        "from functools import reduce\n",
        "\n",
        "data = [2,9,1,3,5,2,7,5,8,2,1,5,6,9,5,5,7,5,3,2,6,4,1,4,9,8,7]\n",
        "\n",
        "agregado = reduce(lambda x, y: {**x, y: x.get(y, 0) + 1}, map(str, data), {})\n",
        "\n",
        "print(agregado)\n",
        "\n",
        "# agregado = Counter(data)\n",
        "\n",
        "# print(agregado)"
      ],
      "metadata": {
        "colab": {
          "base_uri": "https://localhost:8080/"
        },
        "id": "Pk0dZOTaZFTh",
        "outputId": "68bc2659-1116-4f3b-d4b1-ac703f524c22"
      },
      "execution_count": 19,
      "outputs": [
        {
          "output_type": "stream",
          "name": "stdout",
          "text": [
            "{'2': 4, '9': 3, '1': 3, '3': 2, '5': 6, '7': 3, '8': 2, '6': 2, '4': 2}\n",
            "Counter({5: 6, 2: 4, 9: 3, 1: 3, 7: 3, 3: 2, 8: 2, 6: 2, 4: 2})\n"
          ]
        }
      ]
    },
    {
      "cell_type": "markdown",
      "source": [
        "##String\n",
        "Dada a lista a seguir:\n",
        "\n",
        "data = [“Bom”, “Bom”, “Ruim”, “Bom”, “Neutro”, “Neutro”, “Neutro”, “Bom”, “Ruim”, “Bom”]\n",
        "\n",
        "* Como retornar a quantidade agregada por elementos?\n",
        "* Como retornar apenas o mais frequente?"
      ],
      "metadata": {
        "id": "posM2PGYZ2Mi"
      }
    },
    {
      "cell_type": "code",
      "source": [
        "data = [\"Bom\", \"Bom\", \"Ruim\", \"Bom\", \"Neutro\", \"Neutro\", \"Neutro\", \"Bom\", \"Ruim\", \"Bom\"]\n",
        "\n",
        "Counter(data)\n"
      ],
      "metadata": {
        "colab": {
          "base_uri": "https://localhost:8080/"
        },
        "id": "m_08vdgXX2W8",
        "outputId": "247b30cf-952e-44e5-a579-6d202a62babd"
      },
      "execution_count": 22,
      "outputs": [
        {
          "output_type": "execute_result",
          "data": {
            "text/plain": [
              "Counter({'Bom': 5, 'Ruim': 2, 'Neutro': 3})"
            ]
          },
          "metadata": {},
          "execution_count": 22
        }
      ]
    },
    {
      "cell_type": "markdown",
      "source": [
        "##Case\n",
        "Ler os dados do dataset Titanic\n",
        "com Python\n",
        "\n",
        "* Apresente a distribuição dos passageiros que sobreviveram pelo sexo.\n",
        "* Diga o que mais daria pra fazer."
      ],
      "metadata": {
        "id": "DQMnl26Yaiuo"
      }
    },
    {
      "cell_type": "markdown",
      "source": [
        "###Preparando a maquina do colab:"
      ],
      "metadata": {
        "id": "OlTrpreccBJW"
      }
    },
    {
      "cell_type": "code",
      "source": [
        "!pip install pandas\n",
        "\n",
        "import pandas as pd\n",
        "import numpy as np"
      ],
      "metadata": {
        "colab": {
          "base_uri": "https://localhost:8080/"
        },
        "id": "FTrw5SJxarbo",
        "outputId": "c6cf0c5e-ea79-49db-bb2e-12956f1ccbc4"
      },
      "execution_count": 23,
      "outputs": [
        {
          "output_type": "stream",
          "name": "stdout",
          "text": [
            "Looking in indexes: https://pypi.org/simple, https://us-python.pkg.dev/colab-wheels/public/simple/\n",
            "Requirement already satisfied: pandas in /usr/local/lib/python3.9/dist-packages (1.4.4)\n",
            "Requirement already satisfied: numpy>=1.18.5 in /usr/local/lib/python3.9/dist-packages (from pandas) (1.22.4)\n",
            "Requirement already satisfied: python-dateutil>=2.8.1 in /usr/local/lib/python3.9/dist-packages (from pandas) (2.8.2)\n",
            "Requirement already satisfied: pytz>=2020.1 in /usr/local/lib/python3.9/dist-packages (from pandas) (2022.7.1)\n",
            "Requirement already satisfied: six>=1.5 in /usr/local/lib/python3.9/dist-packages (from python-dateutil>=2.8.1->pandas) (1.15.0)\n"
          ]
        }
      ]
    },
    {
      "cell_type": "code",
      "source": [
        "url = 'https://raw.githubusercontent.com/lmatospereira/monster_attack/main/Pandas%20Basics/AAPL.csv'\n",
        "df1 = pd.read_csv(url)\n",
        "\n",
        "df1"
      ],
      "metadata": {
        "colab": {
          "base_uri": "https://localhost:8080/",
          "height": 424
        },
        "id": "P1E301gkcNd5",
        "outputId": "8e1f0ff2-d39e-43d7-e517-71ae6b0d7417"
      },
      "execution_count": 30,
      "outputs": [
        {
          "output_type": "execute_result",
          "data": {
            "text/plain": [
              "           Date        Open        High         Low       Close   Adj Close  \\\n",
              "0    2019-05-07  205.880005  207.419998  200.830002  202.860001  200.239075   \n",
              "1    2019-05-08  201.899994  205.339996  201.750000  202.899994  200.278534   \n",
              "2    2019-05-09  200.399994  201.679993  196.660004  200.720001  198.126709   \n",
              "3    2019-05-10  197.419998  198.850006  192.770004  197.179993  195.381973   \n",
              "4    2019-05-13  187.710007  189.479996  182.850006  185.720001  184.026489   \n",
              "..          ...         ...         ...         ...         ...         ...   \n",
              "249  2020-05-01  286.250000  299.000000  285.850006  289.070007  289.070007   \n",
              "250  2020-05-04  289.170013  293.690002  286.320007  293.160004  293.160004   \n",
              "251  2020-05-05  295.059998  301.000000  294.459991  297.559998  297.559998   \n",
              "252  2020-05-06  300.459991  303.239990  298.869995  300.630005  300.630005   \n",
              "253  2020-05-07  303.220001  305.170013  301.970001  303.619995  303.619995   \n",
              "\n",
              "       Volume  \n",
              "0    38763700  \n",
              "1    26339500  \n",
              "2    34908600  \n",
              "3    41208700  \n",
              "4    57430600  \n",
              "..        ...  \n",
              "249  60154200  \n",
              "250  33392000  \n",
              "251  36937800  \n",
              "252  35512400  \n",
              "253  20745398  \n",
              "\n",
              "[254 rows x 7 columns]"
            ],
            "text/html": [
              "\n",
              "  <div id=\"df-f8d43e62-5404-4fef-9fab-31f7fef766a3\">\n",
              "    <div class=\"colab-df-container\">\n",
              "      <div>\n",
              "<style scoped>\n",
              "    .dataframe tbody tr th:only-of-type {\n",
              "        vertical-align: middle;\n",
              "    }\n",
              "\n",
              "    .dataframe tbody tr th {\n",
              "        vertical-align: top;\n",
              "    }\n",
              "\n",
              "    .dataframe thead th {\n",
              "        text-align: right;\n",
              "    }\n",
              "</style>\n",
              "<table border=\"1\" class=\"dataframe\">\n",
              "  <thead>\n",
              "    <tr style=\"text-align: right;\">\n",
              "      <th></th>\n",
              "      <th>Date</th>\n",
              "      <th>Open</th>\n",
              "      <th>High</th>\n",
              "      <th>Low</th>\n",
              "      <th>Close</th>\n",
              "      <th>Adj Close</th>\n",
              "      <th>Volume</th>\n",
              "    </tr>\n",
              "  </thead>\n",
              "  <tbody>\n",
              "    <tr>\n",
              "      <th>0</th>\n",
              "      <td>2019-05-07</td>\n",
              "      <td>205.880005</td>\n",
              "      <td>207.419998</td>\n",
              "      <td>200.830002</td>\n",
              "      <td>202.860001</td>\n",
              "      <td>200.239075</td>\n",
              "      <td>38763700</td>\n",
              "    </tr>\n",
              "    <tr>\n",
              "      <th>1</th>\n",
              "      <td>2019-05-08</td>\n",
              "      <td>201.899994</td>\n",
              "      <td>205.339996</td>\n",
              "      <td>201.750000</td>\n",
              "      <td>202.899994</td>\n",
              "      <td>200.278534</td>\n",
              "      <td>26339500</td>\n",
              "    </tr>\n",
              "    <tr>\n",
              "      <th>2</th>\n",
              "      <td>2019-05-09</td>\n",
              "      <td>200.399994</td>\n",
              "      <td>201.679993</td>\n",
              "      <td>196.660004</td>\n",
              "      <td>200.720001</td>\n",
              "      <td>198.126709</td>\n",
              "      <td>34908600</td>\n",
              "    </tr>\n",
              "    <tr>\n",
              "      <th>3</th>\n",
              "      <td>2019-05-10</td>\n",
              "      <td>197.419998</td>\n",
              "      <td>198.850006</td>\n",
              "      <td>192.770004</td>\n",
              "      <td>197.179993</td>\n",
              "      <td>195.381973</td>\n",
              "      <td>41208700</td>\n",
              "    </tr>\n",
              "    <tr>\n",
              "      <th>4</th>\n",
              "      <td>2019-05-13</td>\n",
              "      <td>187.710007</td>\n",
              "      <td>189.479996</td>\n",
              "      <td>182.850006</td>\n",
              "      <td>185.720001</td>\n",
              "      <td>184.026489</td>\n",
              "      <td>57430600</td>\n",
              "    </tr>\n",
              "    <tr>\n",
              "      <th>...</th>\n",
              "      <td>...</td>\n",
              "      <td>...</td>\n",
              "      <td>...</td>\n",
              "      <td>...</td>\n",
              "      <td>...</td>\n",
              "      <td>...</td>\n",
              "      <td>...</td>\n",
              "    </tr>\n",
              "    <tr>\n",
              "      <th>249</th>\n",
              "      <td>2020-05-01</td>\n",
              "      <td>286.250000</td>\n",
              "      <td>299.000000</td>\n",
              "      <td>285.850006</td>\n",
              "      <td>289.070007</td>\n",
              "      <td>289.070007</td>\n",
              "      <td>60154200</td>\n",
              "    </tr>\n",
              "    <tr>\n",
              "      <th>250</th>\n",
              "      <td>2020-05-04</td>\n",
              "      <td>289.170013</td>\n",
              "      <td>293.690002</td>\n",
              "      <td>286.320007</td>\n",
              "      <td>293.160004</td>\n",
              "      <td>293.160004</td>\n",
              "      <td>33392000</td>\n",
              "    </tr>\n",
              "    <tr>\n",
              "      <th>251</th>\n",
              "      <td>2020-05-05</td>\n",
              "      <td>295.059998</td>\n",
              "      <td>301.000000</td>\n",
              "      <td>294.459991</td>\n",
              "      <td>297.559998</td>\n",
              "      <td>297.559998</td>\n",
              "      <td>36937800</td>\n",
              "    </tr>\n",
              "    <tr>\n",
              "      <th>252</th>\n",
              "      <td>2020-05-06</td>\n",
              "      <td>300.459991</td>\n",
              "      <td>303.239990</td>\n",
              "      <td>298.869995</td>\n",
              "      <td>300.630005</td>\n",
              "      <td>300.630005</td>\n",
              "      <td>35512400</td>\n",
              "    </tr>\n",
              "    <tr>\n",
              "      <th>253</th>\n",
              "      <td>2020-05-07</td>\n",
              "      <td>303.220001</td>\n",
              "      <td>305.170013</td>\n",
              "      <td>301.970001</td>\n",
              "      <td>303.619995</td>\n",
              "      <td>303.619995</td>\n",
              "      <td>20745398</td>\n",
              "    </tr>\n",
              "  </tbody>\n",
              "</table>\n",
              "<p>254 rows × 7 columns</p>\n",
              "</div>\n",
              "      <button class=\"colab-df-convert\" onclick=\"convertToInteractive('df-f8d43e62-5404-4fef-9fab-31f7fef766a3')\"\n",
              "              title=\"Convert this dataframe to an interactive table.\"\n",
              "              style=\"display:none;\">\n",
              "        \n",
              "  <svg xmlns=\"http://www.w3.org/2000/svg\" height=\"24px\"viewBox=\"0 0 24 24\"\n",
              "       width=\"24px\">\n",
              "    <path d=\"M0 0h24v24H0V0z\" fill=\"none\"/>\n",
              "    <path d=\"M18.56 5.44l.94 2.06.94-2.06 2.06-.94-2.06-.94-.94-2.06-.94 2.06-2.06.94zm-11 1L8.5 8.5l.94-2.06 2.06-.94-2.06-.94L8.5 2.5l-.94 2.06-2.06.94zm10 10l.94 2.06.94-2.06 2.06-.94-2.06-.94-.94-2.06-.94 2.06-2.06.94z\"/><path d=\"M17.41 7.96l-1.37-1.37c-.4-.4-.92-.59-1.43-.59-.52 0-1.04.2-1.43.59L10.3 9.45l-7.72 7.72c-.78.78-.78 2.05 0 2.83L4 21.41c.39.39.9.59 1.41.59.51 0 1.02-.2 1.41-.59l7.78-7.78 2.81-2.81c.8-.78.8-2.07 0-2.86zM5.41 20L4 18.59l7.72-7.72 1.47 1.35L5.41 20z\"/>\n",
              "  </svg>\n",
              "      </button>\n",
              "      \n",
              "  <style>\n",
              "    .colab-df-container {\n",
              "      display:flex;\n",
              "      flex-wrap:wrap;\n",
              "      gap: 12px;\n",
              "    }\n",
              "\n",
              "    .colab-df-convert {\n",
              "      background-color: #E8F0FE;\n",
              "      border: none;\n",
              "      border-radius: 50%;\n",
              "      cursor: pointer;\n",
              "      display: none;\n",
              "      fill: #1967D2;\n",
              "      height: 32px;\n",
              "      padding: 0 0 0 0;\n",
              "      width: 32px;\n",
              "    }\n",
              "\n",
              "    .colab-df-convert:hover {\n",
              "      background-color: #E2EBFA;\n",
              "      box-shadow: 0px 1px 2px rgba(60, 64, 67, 0.3), 0px 1px 3px 1px rgba(60, 64, 67, 0.15);\n",
              "      fill: #174EA6;\n",
              "    }\n",
              "\n",
              "    [theme=dark] .colab-df-convert {\n",
              "      background-color: #3B4455;\n",
              "      fill: #D2E3FC;\n",
              "    }\n",
              "\n",
              "    [theme=dark] .colab-df-convert:hover {\n",
              "      background-color: #434B5C;\n",
              "      box-shadow: 0px 1px 3px 1px rgba(0, 0, 0, 0.15);\n",
              "      filter: drop-shadow(0px 1px 2px rgba(0, 0, 0, 0.3));\n",
              "      fill: #FFFFFF;\n",
              "    }\n",
              "  </style>\n",
              "\n",
              "      <script>\n",
              "        const buttonEl =\n",
              "          document.querySelector('#df-f8d43e62-5404-4fef-9fab-31f7fef766a3 button.colab-df-convert');\n",
              "        buttonEl.style.display =\n",
              "          google.colab.kernel.accessAllowed ? 'block' : 'none';\n",
              "\n",
              "        async function convertToInteractive(key) {\n",
              "          const element = document.querySelector('#df-f8d43e62-5404-4fef-9fab-31f7fef766a3');\n",
              "          const dataTable =\n",
              "            await google.colab.kernel.invokeFunction('convertToInteractive',\n",
              "                                                     [key], {});\n",
              "          if (!dataTable) return;\n",
              "\n",
              "          const docLinkHtml = 'Like what you see? Visit the ' +\n",
              "            '<a target=\"_blank\" href=https://colab.research.google.com/notebooks/data_table.ipynb>data table notebook</a>'\n",
              "            + ' to learn more about interactive tables.';\n",
              "          element.innerHTML = '';\n",
              "          dataTable['output_type'] = 'display_data';\n",
              "          await google.colab.output.renderOutput(dataTable, element);\n",
              "          const docLink = document.createElement('div');\n",
              "          docLink.innerHTML = docLinkHtml;\n",
              "          element.appendChild(docLink);\n",
              "        }\n",
              "      </script>\n",
              "    </div>\n",
              "  </div>\n",
              "  "
            ]
          },
          "metadata": {},
          "execution_count": 30
        }
      ]
    },
    {
      "cell_type": "markdown",
      "source": [
        "##**MAS ANTES DE VOCÊ IR…**\n",
        ">Temos mais um dataset para você colocar à prova seus novos conhecimentos. São 5 datasets do último ano de 5 das maiores empresas de tecnologia do mundo Apple, Google, Netflix, Amazon e Tesla.\n",
        ">\n",
        ">Sua tarefa é adicionar uma coluna com o código de cada ação, passar a data como dtype datatime e transformá-la em index. Depois deve juntar todos os arquivos em um só. Quando tiver feito tudo isso, responda a pergunta: Qual das 5 ações teve a maior média de fechamento no período de julho a setembro de 2019?\n",
        "\n",
        "dataset para ser usado: [aqui](https://drive.google.com/drive/folders/1fAxAc2L_gmvCaEIWQvCTWUN_NJJVWKou)"
      ],
      "metadata": {
        "id": "vJ903SbQbAYI"
      }
    },
    {
      "cell_type": "code",
      "source": [],
      "metadata": {
        "id": "LPcGfemwa_rU"
      },
      "execution_count": null,
      "outputs": []
    }
  ]
}