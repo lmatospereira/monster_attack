{
  "nbformat": 4,
  "nbformat_minor": 0,
  "metadata": {
    "colab": {
      "provenance": [],
      "authorship_tag": "ABX9TyPttSY8iKIVakLTheXu2sbq",
      "include_colab_link": true
    },
    "kernelspec": {
      "name": "python3",
      "display_name": "Python 3"
    },
    "language_info": {
      "name": "python"
    }
  },
  "cells": [
    {
      "cell_type": "markdown",
      "metadata": {
        "id": "view-in-github",
        "colab_type": "text"
      },
      "source": [
        "<a href=\"https://colab.research.google.com/github/lmatospereira/monster_attack/blob/devlop/desafiotera.ipynb\" target=\"_parent\"><img src=\"https://colab.research.google.com/assets/colab-badge.svg\" alt=\"Open In Colab\"/></a>"
      ]
    },
    {
      "cell_type": "code",
      "source": [
        "import random\n",
        "\n",
        "class Jogo:\n",
        "    def __init__(self): # Construtor da classe jogo https://www.treinaweb.com.br/blog/orientacao-a-objetos-em-python#:~:text=Para%20declarar%20um%20atributo%20em,ser%C3%A1%20criada%20em%20nosso%20programa.\n",
        "        self.tabuleiro = [['-' for _ in range(4)] for _ in range(4)] # preenchendo a matriz com e  \"_\" no laço é apenas para melhor compreensão\n",
        "        self.jogador = [0, 0] \n",
        "        self.wumpus = None\n",
        "        self.buraco = None\n",
        "        self.tesouro = None\n",
        "        self.pontos = 10\n",
        "\n",
        "    def gerar_posicao_aleatoria(self): # função para gerar posição aleatória na matriz https://www.geeksforgeeks.org/python-randint-function/\n",
        "        return [random.randint(0, 3), random.randint(0, 3)]\n",
        "\n",
        "    def iniciar(self):        \n",
        "        self.jogador = [0, 0]\n",
        "        self.wumpus = self.gerar_posicao_aleatoria()\n",
        "        self.buraco = self.gerar_posicao_aleatoria()\n",
        "        self.tesouro = self.gerar_posicao_aleatoria()\n",
        "        while self.buraco == self.wumpus: # para evitar que o wunpus e o buraco fiquem no mesmo espaço\n",
        "            self.buraco = self.gerar_posicao_aleatoria()\n",
        "        self.tabuleiro[self.jogador[0]][self.jogador[1]] = 'J' # atribuindo o caractere J na posição do jogador\n",
        "        self.tabuleiro[self.wumpus[0]][self.wumpus[1]] = '-'\n",
        "        self.tabuleiro[self.buraco[0]][self.buraco[1]] = '-'\n",
        "        self.tabuleiro[self.tesouro[0]][self.tesouro[1]] = '-'\n",
        "\n",
        "\n",
        "    def imprimir_tabuleiro(self):\n",
        "        for x in range(4):\n",
        "            for y in range(4):\n",
        "                print(self.tabuleiro[x][y], end=' ') # o end evita que o python quebre a linha \n",
        "            print()    \n",
        "    \n",
        "    \n",
        "    def finaliza_jogo(self,nova_posicao):\n",
        "      self.tabuleiro[self.jogador[0]][self.jogador[1]] = '-' # trocando o caracterer da posicao atual do jogador\n",
        "      self.jogador = nova_posicao\n",
        "      self.tabuleiro[self.jogador[0]][self.jogador[1]] = 'X' # trocando o caracterer da posicao atual do jogador      \n",
        "      return True\n",
        "\n",
        "    def imprimir_pontos(self):\n",
        "      return print(self.pontos)\n",
        "\n",
        "    def mover_jogador(self, direcao):\n",
        "        nova_posicao = [self.jogador[0], self.jogador[1]] # recuperando a posição do jogagor\n",
        "\n",
        "        if direcao == 'esquerda' or direcao == 'atarcar-esquerda': # validando o comando e subitraindo o elemento da y\n",
        "            nova_posicao[1] -= 1\n",
        "            print(nova_posicao)\n",
        "        elif direcao == 'direita' or direcao == 'atarcar-direita':# validando o comando e adicionando o elemento da y\n",
        "            nova_posicao[1] += 1\n",
        "            print(nova_posicao)\n",
        "        elif direcao == 'cima' or direcao == 'atarcar-cima':# validando o comando e adicionando o elemento da x\n",
        "            nova_posicao[0] -= 1\n",
        "            print(nova_posicao)\n",
        "        elif direcao == 'baixo' or direcao == 'atarcar-baixo':# validando o comando e adicionando o elemento da x\n",
        "            nova_posicao[0] += 1\n",
        "            print(nova_posicao)\n",
        "\n",
        "        if nova_posicao[0] < 0 or nova_posicao[0] > 3 or nova_posicao[1] < 0 or nova_posicao[1] > 3: # validando as paredes\n",
        "            print('Movimento inválido.')\n",
        "            return False\n",
        "        \n",
        "        if self.tabuleiro[nova_posicao[0]][nova_posicao[1]] == 'B': # valiando se caractere da posição é o buraco \n",
        "            print(nova_posicao)\n",
        "            print('Você caiu em um buraco!')\n",
        "            self.pontos -= 10\n",
        "            self.finaliza_jogo(nova_posicao)            \n",
        "        \n",
        "        if self.tabuleiro[nova_posicao[0]][nova_posicao[1]] == 'W':# valiando se caractere da posição é o wunpus\n",
        "          print(nova_posicao)\n",
        "          print('Você econtrou o Wumpus!')\n",
        "          self.pontos -= 10\n",
        "          self.finaliza_jogo(nova_posicao)\n",
        "        \n",
        "        if self.tabuleiro[nova_posicao[0]][nova_posicao[1]] == 'T': # valiando se caractere da posição é o wunpus\n",
        "          print(nova_posicao)\n",
        "          print('Você econtrou o Tesouro!')\n",
        "          self.pontos += 10\n",
        "          self.finaliza_jogo(nova_posicao)\n",
        "        \n",
        "        self.tabuleiro[self.jogador[0]][self.jogador[1]] = '-' # trocando o caracterer da posicao atual do jogador \n",
        "        self.jogador = nova_posicao # recupentado a nova posição \n",
        "        self.tabuleiro[self.jogador[0]][self.jogador[1]] = 'J' # trocando o caracterer da posicao atual do jogador\n",
        "        self.pontos -= 1\n",
        "        return True\n",
        "\n",
        "\n",
        "jogo = Jogo()\n",
        "jogo.iniciar()\n",
        "jogo.imprimir_tabuleiro()\n",
        "\n",
        "while True:\n",
        "  jogo.imprimir_pontos()\n",
        "  acao = input('Digite sua ação (esquerda, direita, cima, baixo, atacar): ')\n",
        "  jogo.mover_jogador(acao)\n",
        "  jogo.imprimir_tabuleiro()"
      ],
      "metadata": {
        "id": "VwgvUN1KSNT4",
        "colab": {
          "base_uri": "https://localhost:8080/"
        },
        "outputId": "a226c1b6-b889-49e0-81b9-cb8c9b8ca65c"
      },
      "execution_count": null,
      "outputs": [
        {
          "output_type": "stream",
          "name": "stdout",
          "text": [
            "J - - - \n",
            "- - - - \n",
            "- - - - \n",
            "- - - - \n",
            "10\n"
          ]
        }
      ]
    },
    {
      "cell_type": "markdown",
      "source": [],
      "metadata": {
        "id": "-J9K4QzavbsR"
      }
    }
  ]
}