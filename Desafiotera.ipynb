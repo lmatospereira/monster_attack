{
  "cells": [
    {
      "cell_type": "markdown",
      "metadata": {
        "id": "view-in-github",
        "colab_type": "text"
      },
      "source": [
        "<a href=\"https://colab.research.google.com/github/lmatospereira/monster_attack/blob/devlop/Desafiotera.ipynb\" target=\"_parent\"><img src=\"https://colab.research.google.com/assets/colab-badge.svg\" alt=\"Open In Colab\"/></a>"
      ]
    },
    {
      "cell_type": "code",
      "execution_count": 2,
      "metadata": {
        "colab": {
          "base_uri": "https://localhost:8080/",
          "height": 467
        },
        "id": "VwgvUN1KSNT4",
        "outputId": "2e7ccf7b-921c-4918-e5dc-7685d6c137da"
      },
      "outputs": [
        {
          "output_type": "stream",
          "name": "stdout",
          "text": [
            "J - - - \n",
            "- - - - \n",
            "- - - - \n",
            "- - - - \n",
            "10\n"
          ]
        },
        {
          "output_type": "error",
          "ename": "KeyboardInterrupt",
          "evalue": "ignored",
          "traceback": [
            "\u001b[0;31m---------------------------------------------------------------------------\u001b[0m",
            "\u001b[0;31mKeyboardInterrupt\u001b[0m                         Traceback (most recent call last)",
            "\u001b[0;32m<ipython-input-2-db0d85ad5cd8>\u001b[0m in \u001b[0;36m<module>\u001b[0;34m\u001b[0m\n\u001b[1;32m     93\u001b[0m \u001b[0;32mwhile\u001b[0m \u001b[0;32mTrue\u001b[0m\u001b[0;34m:\u001b[0m\u001b[0;34m\u001b[0m\u001b[0;34m\u001b[0m\u001b[0m\n\u001b[1;32m     94\u001b[0m   \u001b[0mjogo\u001b[0m\u001b[0;34m.\u001b[0m\u001b[0mimprimir_pontos\u001b[0m\u001b[0;34m(\u001b[0m\u001b[0;34m)\u001b[0m\u001b[0;34m\u001b[0m\u001b[0;34m\u001b[0m\u001b[0m\n\u001b[0;32m---> 95\u001b[0;31m   \u001b[0macao\u001b[0m \u001b[0;34m=\u001b[0m \u001b[0minput\u001b[0m\u001b[0;34m(\u001b[0m\u001b[0;34m'Digite sua ação (esquerda, direita, cima, baixo, atacar): '\u001b[0m\u001b[0;34m)\u001b[0m\u001b[0;34m\u001b[0m\u001b[0;34m\u001b[0m\u001b[0m\n\u001b[0m\u001b[1;32m     96\u001b[0m   \u001b[0mjogo\u001b[0m\u001b[0;34m.\u001b[0m\u001b[0mmover_jogador\u001b[0m\u001b[0;34m(\u001b[0m\u001b[0macao\u001b[0m\u001b[0;34m)\u001b[0m\u001b[0;34m\u001b[0m\u001b[0;34m\u001b[0m\u001b[0m\n\u001b[1;32m     97\u001b[0m   \u001b[0mjogo\u001b[0m\u001b[0;34m.\u001b[0m\u001b[0mimprimir_tabuleiro\u001b[0m\u001b[0;34m(\u001b[0m\u001b[0;34m)\u001b[0m\u001b[0;34m\u001b[0m\u001b[0;34m\u001b[0m\u001b[0m\n",
            "\u001b[0;32m/usr/local/lib/python3.9/dist-packages/ipykernel/kernelbase.py\u001b[0m in \u001b[0;36mraw_input\u001b[0;34m(self, prompt)\u001b[0m\n\u001b[1;32m    858\u001b[0m                 \u001b[0;34m\"raw_input was called, but this frontend does not support input requests.\"\u001b[0m\u001b[0;34m\u001b[0m\u001b[0;34m\u001b[0m\u001b[0m\n\u001b[1;32m    859\u001b[0m             )\n\u001b[0;32m--> 860\u001b[0;31m         return self._input_request(str(prompt),\n\u001b[0m\u001b[1;32m    861\u001b[0m             \u001b[0mself\u001b[0m\u001b[0;34m.\u001b[0m\u001b[0m_parent_ident\u001b[0m\u001b[0;34m,\u001b[0m\u001b[0;34m\u001b[0m\u001b[0;34m\u001b[0m\u001b[0m\n\u001b[1;32m    862\u001b[0m             \u001b[0mself\u001b[0m\u001b[0;34m.\u001b[0m\u001b[0m_parent_header\u001b[0m\u001b[0;34m,\u001b[0m\u001b[0;34m\u001b[0m\u001b[0;34m\u001b[0m\u001b[0m\n",
            "\u001b[0;32m/usr/local/lib/python3.9/dist-packages/ipykernel/kernelbase.py\u001b[0m in \u001b[0;36m_input_request\u001b[0;34m(self, prompt, ident, parent, password)\u001b[0m\n\u001b[1;32m    902\u001b[0m             \u001b[0;32mexcept\u001b[0m \u001b[0mKeyboardInterrupt\u001b[0m\u001b[0;34m:\u001b[0m\u001b[0;34m\u001b[0m\u001b[0;34m\u001b[0m\u001b[0m\n\u001b[1;32m    903\u001b[0m                 \u001b[0;31m# re-raise KeyboardInterrupt, to truncate traceback\u001b[0m\u001b[0;34m\u001b[0m\u001b[0;34m\u001b[0m\u001b[0m\n\u001b[0;32m--> 904\u001b[0;31m                 \u001b[0;32mraise\u001b[0m \u001b[0mKeyboardInterrupt\u001b[0m\u001b[0;34m(\u001b[0m\u001b[0;34m\"Interrupted by user\"\u001b[0m\u001b[0;34m)\u001b[0m \u001b[0;32mfrom\u001b[0m \u001b[0;32mNone\u001b[0m\u001b[0;34m\u001b[0m\u001b[0;34m\u001b[0m\u001b[0m\n\u001b[0m\u001b[1;32m    905\u001b[0m             \u001b[0;32mexcept\u001b[0m \u001b[0mException\u001b[0m \u001b[0;32mas\u001b[0m \u001b[0me\u001b[0m\u001b[0;34m:\u001b[0m\u001b[0;34m\u001b[0m\u001b[0;34m\u001b[0m\u001b[0m\n\u001b[1;32m    906\u001b[0m                 \u001b[0mself\u001b[0m\u001b[0;34m.\u001b[0m\u001b[0mlog\u001b[0m\u001b[0;34m.\u001b[0m\u001b[0mwarning\u001b[0m\u001b[0;34m(\u001b[0m\u001b[0;34m\"Invalid Message:\"\u001b[0m\u001b[0;34m,\u001b[0m \u001b[0mexc_info\u001b[0m\u001b[0;34m=\u001b[0m\u001b[0;32mTrue\u001b[0m\u001b[0;34m)\u001b[0m\u001b[0;34m\u001b[0m\u001b[0;34m\u001b[0m\u001b[0m\n",
            "\u001b[0;31mKeyboardInterrupt\u001b[0m: Interrupted by user"
          ]
        }
      ],
      "source": [
        "import random\n",
        "\n",
        "class Jogo:\n",
        "    def __init__(self): # Construtor da classe jogo https://www.treinaweb.com.br/blog/orientacao-a-objetos-em-python#:~:text=Para%20declarar%20um%20atributo%20em,ser%C3%A1%20criada%20em%20nosso%20programa.\n",
        "        self.tabuleiro = [['-' for _ in range(4)] for _ in range(4)] # preenchendo a matriz com e  \"_\" no laço é apenas para melhor compreensão\n",
        "        self.jogador = [0, 0] \n",
        "        self.wumpus = None\n",
        "        self.buraco = None\n",
        "        self.tesouro = None\n",
        "        self.pontos = 10\n",
        "\n",
        "    def gerar_posicao_aleatoria(self): # função para gerar posição aleatória na matriz https://www.geeksforgeeks.org/python-randint-function/\n",
        "        return [random.randint(0, 3), random.randint(0, 3)]\n",
        "\n",
        "    def iniciar(self):        \n",
        "        self.jogador = [0, 0]\n",
        "        self.wumpus = self.gerar_posicao_aleatoria()\n",
        "        self.buraco = self.gerar_posicao_aleatoria()\n",
        "        self.tesouro = self.gerar_posicao_aleatoria()\n",
        "        while self.buraco == self.wumpus: # para evitar que o wunpus e o buraco fiquem no mesmo espaço\n",
        "            self.buraco = self.gerar_posicao_aleatoria()\n",
        "        self.tabuleiro[self.jogador[0]][self.jogador[1]] = 'J' # atribuindo o caractere J na posição do jogador\n",
        "        self.tabuleiro[self.wumpus[0]][self.wumpus[1]] = '-'\n",
        "        self.tabuleiro[self.buraco[0]][self.buraco[1]] = '-'\n",
        "        self.tabuleiro[self.tesouro[0]][self.tesouro[1]] = '-'\n",
        "\n",
        "\n",
        "    def imprimir_tabuleiro(self):\n",
        "        for x in range(4):\n",
        "            for y in range(4):\n",
        "                print(self.tabuleiro[x][y], end=' ') # o end evita que o python quebre a linha \n",
        "            print()    \n",
        "    \n",
        "    \n",
        "    def finaliza_jogo(self,nova_posicao):\n",
        "      self.tabuleiro[self.jogador[0]][self.jogador[1]] = '-' # trocando o caracterer da posicao atual do jogador\n",
        "      self.jogador = nova_posicao\n",
        "      self.tabuleiro[self.jogador[0]][self.jogador[1]] = 'X' # trocando o caracterer da posicao atual do jogador      \n",
        "      return True\n",
        "\n",
        "    def imprimir_pontos(self):\n",
        "      return print(self.pontos)\n",
        "\n",
        "    def mover_jogador(self, direcao):\n",
        "        nova_posicao = [self.jogador[0], self.jogador[1]] # recuperando a posição do jogagor\n",
        "\n",
        "        if direcao == 'esquerda' or direcao == 'atarcar-esquerda': # validando o comando e subitraindo o elemento da y\n",
        "            nova_posicao[1] -= 1\n",
        "            print(nova_posicao)\n",
        "        elif direcao == 'direita' or direcao == 'atarcar-direita':# validando o comando e adicionando o elemento da y\n",
        "            nova_posicao[1] += 1\n",
        "            print(nova_posicao)\n",
        "        elif direcao == 'cima' or direcao == 'atarcar-cima':# validando o comando e adicionando o elemento da x\n",
        "            nova_posicao[0] -= 1\n",
        "            print(nova_posicao)\n",
        "        elif direcao == 'baixo' or direcao == 'atarcar-baixo':# validando o comando e adicionando o elemento da x\n",
        "            nova_posicao[0] += 1\n",
        "            print(nova_posicao)\n",
        "\n",
        "        if nova_posicao[0] < 0 or nova_posicao[0] > 3 or nova_posicao[1] < 0 or nova_posicao[1] > 3: # validando as paredes\n",
        "            print('Movimento inválido.')\n",
        "            return False\n",
        "        \n",
        "        if self.tabuleiro[nova_posicao[0]][nova_posicao[1]] == 'B': # valiando se caractere da posição é o buraco \n",
        "            print(nova_posicao)\n",
        "            print('Você caiu em um buraco!')\n",
        "            self.pontos -= 10\n",
        "            self.finaliza_jogo(nova_posicao)            \n",
        "        \n",
        "        if self.tabuleiro[nova_posicao[0]][nova_posicao[1]] == 'W':# valiando se caractere da posição é o wunpus\n",
        "          print(nova_posicao)\n",
        "          print('Você econtrou o Wumpus!')\n",
        "          self.pontos -= 10\n",
        "          self.finaliza_jogo(nova_posicao)\n",
        "        \n",
        "        if self.tabuleiro[nova_posicao[0]][nova_posicao[1]] == 'T': # valiando se caractere da posição é o wunpus\n",
        "          print(nova_posicao)\n",
        "          print('Você econtrou o Tesouro!')\n",
        "          self.pontos += 10\n",
        "          self.finaliza_jogo(nova_posicao)\n",
        "        \n",
        "        self.tabuleiro[self.jogador[0]][self.jogador[1]] = '-' # trocando o caracterer da posicao atual do jogador \n",
        "        self.jogador = nova_posicao # recupentado a nova posição \n",
        "        self.tabuleiro[self.jogador[0]][self.jogador[1]] = 'J' # trocando o caracterer da posicao atual do jogador\n",
        "        self.pontos -= 1\n",
        "        return True\n",
        "\n",
        "\n",
        "jogo = Jogo()\n",
        "jogo.iniciar()\n",
        "jogo.imprimir_tabuleiro()\n",
        "\n",
        "while True:\n",
        "  jogo.imprimir_pontos()\n",
        "  acao = input('Digite sua ação (esquerda, direita, cima, baixo, atacar): ')\n",
        "  jogo.mover_jogador(acao)\n",
        "  jogo.imprimir_tabuleiro()"
      ]
    },
    {
      "cell_type": "code",
      "source": [],
      "metadata": {
        "id": "PIIUIsajKjvA"
      },
      "execution_count": null,
      "outputs": []
    },
    {
      "cell_type": "markdown",
      "metadata": {
        "id": "-J9K4QzavbsR"
      },
      "source": []
    }
  ],
  "metadata": {
    "colab": {
      "provenance": [],
      "authorship_tag": "ABX9TyNpNC4jBAv5CwQUY0HRr7Fp",
      "include_colab_link": true
    },
    "kernelspec": {
      "display_name": "Python 3",
      "name": "python3"
    },
    "language_info": {
      "name": "python"
    }
  },
  "nbformat": 4,
  "nbformat_minor": 0
}