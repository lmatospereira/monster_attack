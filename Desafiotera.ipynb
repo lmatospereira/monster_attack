{
  "nbformat": 4,
  "nbformat_minor": 0,
  "metadata": {
    "colab": {
      "provenance": [],
      "authorship_tag": "ABX9TyNugDb+mlBLSvMBCQTb9puP",
      "include_colab_link": true
    },
    "kernelspec": {
      "name": "python3",
      "display_name": "Python 3"
    },
    "language_info": {
      "name": "python"
    }
  },
  "cells": [
    {
      "cell_type": "markdown",
      "metadata": {
        "id": "view-in-github",
        "colab_type": "text"
      },
      "source": [
        "<a href=\"https://colab.research.google.com/github/lmatospereira/monster_attack/blob/devlop/Desafiotera.ipynb\" target=\"_parent\"><img src=\"https://colab.research.google.com/assets/colab-badge.svg\" alt=\"Open In Colab\"/></a>"
      ]
    },
    {
      "cell_type": "markdown",
      "source": [
        "**Tabuleiro**: 4x4 (16 posições)\n",
        "\n",
        "**Ações:**\n",
        "\n",
        "← ir para esquerda\n",
        "\n",
        "→ ir para direita\n",
        "\n",
        "↑ ir para cima\n",
        "\n",
        "↓ ir para baixo\n",
        "\n",
        "A atacar\n",
        "\n",
        "**Regras:**\n",
        "* Uma ação por vez (movimentar ou atacar)\n",
        "* Não existe ação diagonal\n",
        "* Não dá para atravessar paredes\n",
        "* Um ataque mata o Wumpus, mas você só\n",
        "tem um único ataque\n",
        "* Pontos\n",
        "  * -1 para cada movimento\n",
        "  * -10 se atacar|"
      ],
      "metadata": {
        "id": "njnlssq9CzO_"
      }
    },
    {
      "cell_type": "code",
      "source": [
        "import random\n",
        "\n",
        "class Jogo:\n",
        "    def __init__(self): # Construtor da classe jogo https://www.treinaweb.com.br/blog/orientacao-a-objetos-em-python#:~:text=Para%20declarar%20um%20atributo%20em,ser%C3%A1%20criada%20em%20nosso%20programa.\n",
        "        self.tabuleiro = [['-' for _ in range(4)] for _ in range(4)] # preenchendo a matriz com e  \"_\" no laço é apenas para melhor compreensão\n",
        "        self.jogador = [0, 0] \n",
        "        self.wumpus = None\n",
        "        self.buraco = None\n",
        "        self.tesouro = None\n",
        "        self.pontos = 10\n",
        "\n",
        "    def gerar_posicao_aleatoria(self): # função para gerar posição aleatória na matriz https://www.geeksforgeeks.org/python-randint-function/\n",
        "        return [random.randint(0, 3), random.randint(0, 3)]\n",
        "\n",
        "    def iniciar(self):        \n",
        "        self.jogador = [0, 0]\n",
        "        self.wumpus = self.gerar_posicao_aleatoria()\n",
        "        self.buraco = self.gerar_posicao_aleatoria()\n",
        "        self.tesouro = self.gerar_posicao_aleatoria()\n",
        "        while self.buraco == self.wumpus: # para evitar que o wunpus e o buraco fiquem no mesmo espaço\n",
        "            self.buraco = self.gerar_posicao_aleatoria()\n",
        "        self.tabuleiro[self.jogador[0]][self.jogador[1]] = 'J' # atribuindo o caractere J na posição do jogador\n",
        "        self.tabuleiro[self.wumpus[0]][self.wumpus[1]] = '-'\n",
        "        self.tabuleiro[self.buraco[0]][self.buraco[1]] = '-'\n",
        "        self.tabuleiro[self.tesouro[0]][self.tesouro[1]] = '-'\n",
        "\n",
        "\n",
        "    def imprimir_tabuleiro(self):\n",
        "        for x in range(4):\n",
        "            for y in range(4):\n",
        "                print(self.tabuleiro[x][y], end=' ') # o end evita que o python quebre a linha \n",
        "            print()    \n",
        "    \n",
        "    \n",
        "    def finaliza_jogo(self,nova_posicao):\n",
        "      self.tabuleiro[self.jogador[0]][self.jogador[1]] = '-' # trocando o caracterer da posicao atual do jogador\n",
        "      self.jogador = nova_posicao\n",
        "      self.tabuleiro[self.jogador[0]][self.jogador[1]] = 'X' # trocando o caracterer da posicao atual do jogador      \n",
        "      return True\n",
        "\n",
        "    def imprimir_pontos(self):\n",
        "      return print(self.pontos)\n",
        "\n",
        "    def mover_jogador(self, direcao):\n",
        "        nova_posicao = [self.jogador[0], self.jogador[1]] # recuperando a posição do jogagor\n",
        "\n",
        "        if direcao == 'esquerda' or direcao == 'atarcar-esquerda': # validando o comando e subitraindo o elemento da y\n",
        "            nova_posicao[1] -= 1\n",
        "            print(nova_posicao)\n",
        "        elif direcao == 'direita' or direcao == 'atarcar-direita':# validando o comando e adicionando o elemento da y\n",
        "            nova_posicao[1] += 1\n",
        "            print(nova_posicao)\n",
        "        elif direcao == 'cima' or direcao == 'atarcar-cima':# validando o comando e adicionando o elemento da x\n",
        "            nova_posicao[0] -= 1\n",
        "            print(nova_posicao)\n",
        "        elif direcao == 'baixo' or direcao == 'atarcar-baixo':# validando o comando e adicionando o elemento da x\n",
        "            nova_posicao[0] += 1\n",
        "            print(nova_posicao)\n",
        "\n",
        "        if nova_posicao[0] < 0 or nova_posicao[0] > 3 or nova_posicao[1] < 0 or nova_posicao[1] > 3: # validando as paredes\n",
        "            print('Movimento inválido.')\n",
        "            return False\n",
        "        \n",
        "        if self.tabuleiro[nova_posicao[0]][nova_posicao[1]] == 'B': # valiando se caractere da posição é o buraco \n",
        "            print(nova_posicao)\n",
        "            print('Você caiu em um buraco!')\n",
        "            self.pontos -= 10\n",
        "            self.finaliza_jogo(nova_posicao)            \n",
        "        \n",
        "        if self.tabuleiro[nova_posicao[0]][nova_posicao[1]] == 'W':# valiando se caractere da posição é o wunpus\n",
        "          print(nova_posicao)\n",
        "          print('Você econtrou o Wumpus!')\n",
        "          self.pontos -= 10\n",
        "          self.finaliza_jogo(nova_posicao)\n",
        "        \n",
        "        if self.tabuleiro[nova_posicao[0]][nova_posicao[1]] == 'T': # valiando se caractere da posição é o wunpus\n",
        "          print(nova_posicao)\n",
        "          print('Você econtrou o Tesouro!')\n",
        "          self.pontos += 10\n",
        "          self.finaliza_jogo(nova_posicao)\n",
        "        \n",
        "        self.tabuleiro[self.jogador[0]][self.jogador[1]] = '-' # trocando o caracterer da posicao atual do jogador \n",
        "        self.jogador = nova_posicao # recupentado a nova posição \n",
        "        self.tabuleiro[self.jogador[0]][self.jogador[1]] = 'J' # trocando o caracterer da posicao atual do jogador\n",
        "        self.pontos -= 1\n",
        "        return True\n",
        "\n",
        "\n",
        "jogo = Jogo()\n",
        "jogo.iniciar()\n",
        "jogo.imprimir_tabuleiro()\n",
        "\n",
        "while True:\n",
        "  jogo.imprimir_pontos()\n",
        "  acao = input('Digite sua ação (esquerda, direita, cima, baixo, atacar): ')\n",
        "  jogo.mover_jogador(acao)\n",
        "  jogo.imprimir_tabuleiro()"
      ],
      "metadata": {
        "id": "VwgvUN1KSNT4",
        "colab": {
          "base_uri": "https://localhost:8080/"
        },
        "outputId": "a226c1b6-b889-49e0-81b9-cb8c9b8ca65c"
      },
      "execution_count": null,
      "outputs": [
        {
          "output_type": "stream",
          "name": "stdout",
          "text": [
            "J - - - \n",
            "- - - - \n",
            "- - - - \n",
            "- - - - \n",
            "10\n"
          ]
        }
      ]
    },
    {
      "cell_type": "markdown",
      "source": [
        "##Desaﬁo\n",
        "Concatene listas\n",
        "Seu código deve:\n",
        "* usar duas listas de mesmo tamanho\n",
        "* devolver uma lista final de tuplas\n",
        "Obs:\n",
        "* Use essas listas como exemplo:\n",
        "  * first_list = [0, 1, 2, 3, 4, 5, 6, 7, 8, 9, 10]\n",
        "  * second_list = [0, 1, 4, 9, 16, 25, 36, 49, 64, 81, 100]\n"
      ],
      "metadata": {
        "id": "-J9K4QzavbsR"
      }
    },
    {
      "cell_type": "code",
      "source": [
        "first_list = [0, 1, 2, 3, 4, 5, 6, 7, 8, 9, 10]\n",
        "second_list = [0, 1, 4, 9, 16, 25, 36, 49, 64, 81, 100]\n",
        "\n",
        "result = zip(first_list, second_list)\n",
        "print(tuple(result))"
      ],
      "metadata": {
        "colab": {
          "base_uri": "https://localhost:8080/"
        },
        "id": "NrjDkgdgCiF9",
        "outputId": "94ebdd10-cedf-4650-dfde-b2d500f1688b"
      },
      "execution_count": null,
      "outputs": [
        {
          "output_type": "stream",
          "name": "stdout",
          "text": [
            "((0, 0), (1, 1), (2, 4), (3, 9), (4, 16), (5, 25), (6, 36), (7, 49), (8, 64), (9, 81), (10, 100))\n"
          ]
        }
      ]
    },
    {
      "cell_type": "markdown",
      "source": [
        "**Encontre a interseção**\n",
        "\n",
        "Seu código deve:\n",
        "* usar dois conjuntos\n",
        "* devolver um conjunto com elementos da interseção\n",
        "\n",
        "Obs:\n",
        "* Use esses conjuntos como exemplo:\n",
        "  * first_set = {23, 42, 65, 57, 78, 83, 29}\n",
        "  * second_set = {57, 83, 29, 67, 73, 43, 48}"
      ],
      "metadata": {
        "id": "bskfdB8KFdjx"
      }
    },
    {
      "cell_type": "code",
      "source": [
        "first_set = {23, 42, 65, 57, 78, 83, 29}\n",
        "second_set = {57, 83, 29, 67, 73, 43, 48}\n",
        "print(f\"método intersecção first_set.intersection(second_set) {first_set.intersection(second_set)} \\\n",
        "mas pode ser usando da seguinte maneira first_set &  second_set {first_set & second_set}\")"
      ],
      "metadata": {
        "colab": {
          "base_uri": "https://localhost:8080/"
        },
        "id": "PbZsBqK-FdPL",
        "outputId": "7c72678d-2f08-4034-f308-c439247bf561"
      },
      "execution_count": null,
      "outputs": [
        {
          "output_type": "stream",
          "name": "stdout",
          "text": [
            "método intersecção first_set.intersection(second_set) {57, 83, 29} mas pode ser usando da seguinte maneira first_set &  second_set {57, 83, 29}\n"
          ]
        }
      ]
    },
    {
      "cell_type": "markdown",
      "source": [
        "**Crie função e use conjuntos**\n",
        "\n",
        "Sua função deve:\n",
        "* receber dois conjuntos como argumento\n",
        "* ser capaz de dizer se o primeiro conjunto é um sub-conjunto do segundo.\n",
        "\n",
        "\n",
        "Obs:\n",
        "* Não há a necessidade do inverso ser verdadeiro.\n",
        "* Use esses conjuntos como exemplo:\n",
        "  * first_set = {57, 83, 29}\n",
        "  * second_set = {57, 83, 29, 67, 73, 43, 48}\n",
        "* Teste com exemplos que são False"
      ],
      "metadata": {
        "id": "7XFc3NSBHJnk"
      }
    },
    {
      "cell_type": "code",
      "source": [
        "def verifica_subconjunto(first_set: set, second_set: set) -> True:\n",
        "  return first_set.issubset(second_set) \n",
        "\n",
        "first_set = {57, 83, 29}\n",
        "second_set = {57, 83, 29, 67, 73, 43, 48}\n",
        "third_set = {3,5,10}\n",
        "\n",
        "first_and_second = verifica_subconjunto(first_set,second_set)\n",
        "first_and_third = verifica_subconjunto(first_set,third_set)\n",
        "\n",
        "print(f' first_and_second = {first_and_second} first_and_third = {first_and_third}')\n"
      ],
      "metadata": {
        "colab": {
          "base_uri": "https://localhost:8080/"
        },
        "id": "SlKG9dnMHJZ2",
        "outputId": "028e0882-6b84-4acc-d916-b76c00fa6c43"
      },
      "execution_count": null,
      "outputs": [
        {
          "output_type": "stream",
          "name": "stdout",
          "text": [
            "True False\n"
          ]
        }
      ]
    },
    {
      "cell_type": "markdown",
      "source": [
        "Encontre e Destrua\n",
        "Sua função deve:\n",
        "* receber um dicionário como primeiro argumento e um inteiro como segundo\n",
        "* criar um novo dicionário sem os elementos que possuem tal valor caso\n",
        "esteja presente\n",
        "Obs:\n",
        "* Número de exemplo: 13\n",
        "* Use o seguinte dicionário como exemplo\n",
        "\n",
        "\n",
        "```\n",
        " preferences = {\n",
        "   \"Aline\": 10, \"Jorge\": 2, \"Fabiola\": 4,\n",
        "   \"Jana\": 13, \"Wanda\": 14, \"Iago\": 22\n",
        "   \"Jefinho\": 9, \"Helton\": 6, \"Maria\": 13,\n",
        "   \"André\": 19, \"Diogo\": 5, \"Maiara\":13\n",
        "}\n",
        "```\n",
        "\n"
      ],
      "metadata": {
        "id": "8m5DBTSTMR2M"
      }
    },
    {
      "cell_type": "code",
      "source": [
        "def encontre_destrua(lista: dict, indice: int) -> dict:\n",
        "  list = [key for key, value in preferences.items() if value == indice]\n",
        "  result = [lista.pop(key, None) for key in list]   \n",
        "  return lista\n",
        " \n",
        "preferences = {\n",
        "    \"Aline\": 10, \"Jorge\": 2, \"Fabiola\": 4,\n",
        "    \"Jana\": 13, \"Wanda\": 14, \"Iago\": 22,\n",
        "    \"Jefinho\": 9, \"Helton\": 6, \"Maria\": 13,\n",
        "    \"André\": 19, \"Diogo\": 5, \"Maiara\":13\n",
        "}\n",
        "encontre_destrua(preferences,13)  "
      ],
      "metadata": {
        "colab": {
          "base_uri": "https://localhost:8080/"
        },
        "id": "qcONRS6HMSLu",
        "outputId": "075f8ce2-2dda-480a-c4ed-58c86956d995"
      },
      "execution_count": null,
      "outputs": [
        {
          "output_type": "execute_result",
          "data": {
            "text/plain": [
              "{'Aline': 10,\n",
              " 'Jorge': 2,\n",
              " 'Fabiola': 4,\n",
              " 'Wanda': 14,\n",
              " 'Iago': 22,\n",
              " 'Jefinho': 9,\n",
              " 'Helton': 6,\n",
              " 'André': 19,\n",
              " 'Diogo': 5}"
            ]
          },
          "metadata": {},
          "execution_count": 118
        }
      ]
    },
    {
      "cell_type": "markdown",
      "source": [
        "**Desenvolva um bot!**\n",
        "\n",
        "Ele deve:\n",
        "\n",
        "* Ficar esperando uma mensagem sua\n",
        "* Se você disser “oi” ele deve responder com \"Olá humano, tudo certo?\"\n",
        "* Se você disser “quem é você”, ele deve responder com:\n",
        " \"Eu sou a GALATERA, uma Inteligência Artificial\"\n",
        "\n",
        "* Se você disser qualquer outra coisa, ele deve responder “Que ótimo! Espero\n",
        "que você seja feliz!”\n",
        "\n",
        "**Obs:**\n",
        "* Use loops e condicionais\n",
        "* Não se esqueça do input\n",
        "* Tente imprimir com “human: ” e “bot: ” para facilitar"
      ],
      "metadata": {
        "id": "WOPMihmLdkLz"
      }
    },
    {
      "cell_type": "code",
      "source": [
        "class bot:\n",
        "    def __init__(self): # Construtor da classe jogo https://www.treinaweb.com.br/blog/orientacao-a-objetos-em-python#:~:text=Para%20declarar%20um%20atributo%20em,ser%C3%A1%20criada%20em%20nosso%20programa.\n",
        "        self.nome = 'GALATERA' # preenchendo a matriz com e  \"_\" no laço é apenas para melhor compreensão\n",
        "        self.nome_usuario = None\n",
        "        self.contato_inicial = 0\n",
        "    \n",
        "    def recupera_nome_usuario(self):\n",
        "      self.nome_usuario = input('Qual é o seu nome ?')\n",
        "      self.contato_inicial += 1\n",
        "\n",
        "    def proxima_resposta(self):\n",
        "      return input(f\"{self.nome_usuario:} \")\n",
        "    \n",
        "    def resposta_usuario(self, resposta):\n",
        "      if resposta.lower() == 'oi':\n",
        "        print(f\"{self.nome}: Olá {self.nome_usuario}, tudo certo?\")\n",
        "      elif resposta.lower() == 'quem e voce':\n",
        "        print(f\"{self.nome}: Eu sou a {self.nome}, uma Inteligência Artificial\")\n",
        "      else:\n",
        "        print(f\"{self.nome}: Que ótimo! Esperoque você seja feliz!\")\n",
        "        return False\n",
        "     \n",
        "      return True\n",
        "    \n",
        "    def iniciar(self):\n",
        "      while True:\n",
        "        \n",
        "        if self.contato_inicial == 0:\n",
        "          self.recupera_nome_usuario()\n",
        "        resposta = self.proxima_resposta()\n",
        "        self.resposta_usuario(resposta)\n",
        "\n",
        "\n",
        "bot = bot()\n",
        "bot.iniciar()\n"
      ],
      "metadata": {
        "id": "TN7QRDutdjdU"
      },
      "execution_count": null,
      "outputs": []
    },
    {
      "cell_type": "markdown",
      "source": [
        "**Elementos especíﬁcos**\n",
        "\n",
        "Dada a lista a seguir:\n",
        "\n",
        "> data = [2,9,1,3,5,2,7,5,8,2,1,5,6,9,5,5,7,5,3,2,6,4,1,4,9,8,7]\n",
        "\n",
        "* Como selecionar o 7o elemento?\n",
        "* E os 5 primeiros?\n",
        "* E os 3 últimos?]\n",
        "* Como ordenar do maior para o menor?\n",
        "* E do menor para o maior?"
      ],
      "metadata": {
        "id": "gI93n1xlnXiZ"
      }
    },
    {
      "cell_type": "code",
      "source": [
        "data = [2,9,1,3,5,2,7,5,8,2,1,5,6,9,5,5,7,5,3,2,6,4,1,4,9,8,7]\n",
        "\n",
        "print(f\"Como selecionar o 7º elemento:{data[7]}\\nComo selecionar os 5 elemento{data[:5]}\\nComo selecionar os 3 últimos:{data[-3:]}\")"
      ],
      "metadata": {
        "colab": {
          "base_uri": "https://localhost:8080/"
        },
        "id": "1JRRUFMwm6eS",
        "outputId": "9ef4099a-62f8-4396-c736-661b4eaaab02"
      },
      "execution_count": null,
      "outputs": [
        {
          "output_type": "stream",
          "name": "stdout",
          "text": [
            "Como selecionar o 7º elemento:5\n",
            "Como selecionar os 5 elemento[2, 9, 1, 3, 5]\n",
            "Como selecionar os 3 últimos:[9, 8, 7]\n"
          ]
        }
      ]
    },
    {
      "cell_type": "markdown",
      "source": [],
      "metadata": {
        "id": "D4O7CKj7nWS7"
      }
    },
    {
      "cell_type": "code",
      "source": [],
      "metadata": {
        "id": "cZR4y9vIKY15"
      },
      "execution_count": null,
      "outputs": []
    }
  ]
}